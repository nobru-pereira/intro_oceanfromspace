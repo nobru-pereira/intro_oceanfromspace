{
 "cells": [
  {
   "cell_type": "code",
   "execution_count": 1,
   "id": "bee4383c",
   "metadata": {},
   "outputs": [],
   "source": [
    "%matplotlib inline\n",
    "\n",
    "# import libraries to read and plot statistical analyses of marine satellite data\n",
    "import pandas as pd\n",
    "import xarray as xr\n",
    "import numpy as np\n",
    "import warnings\n",
    "import cmocean as cmo\n",
    "import matplotlib.pyplot as plt\n",
    "from matplotlib import colors\n",
    "from matplotlib import gridspec, ticker\n",
    "from scipy.ndimage.filters import gaussian_filter\n",
    "warnings.filterwarnings('ignore')\n",
    "import glob\n",
    "import seawater as sw\n",
    "from dask.diagnostics import ProgressBar"
   ]
  },
  {
   "cell_type": "code",
   "execution_count": 2,
   "id": "6254eb93",
   "metadata": {},
   "outputs": [],
   "source": [
    "fsource = sorted(glob.glob('/home/br/git/CMEMS/oc-cci-chl/oc_cci*'))"
   ]
  },
  {
   "cell_type": "code",
   "execution_count": 3,
   "id": "d902dfa6",
   "metadata": {},
   "outputs": [],
   "source": [
    "source   =  [xr.open_dataset(i, chunks={}) for i in fsource]\n",
    "source = xr.concat(source, dim='time')"
   ]
  },
  {
   "cell_type": "code",
   "execution_count": 4,
   "id": "15ead186",
   "metadata": {},
   "outputs": [],
   "source": [
    "# lat = source.CHL.latitude\n",
    "# lon = source.CHL.longitude\n",
    "# time = source.CHL.time"
   ]
  },
  {
   "cell_type": "code",
   "execution_count": 5,
   "id": "8c5c8016",
   "metadata": {},
   "outputs": [],
   "source": [
    "#batimetria\n",
    "# LOAD BATHYMETRY\n",
    "\n",
    "dado = xr.open_dataset('/home/br/git/CMEMS/gebco-data/gebco_2020_n-20.0_s-40.0_w-60.0_e-40.0.nc')\n",
    "\n",
    "bat = dado.interp({'lon':source.longitude, 'lat':source.latitude}).elevation\n",
    "\n",
    "dado.close()\n",
    "bat.close()"
   ]
  },
  {
   "cell_type": "code",
   "execution_count": 6,
   "id": "953f5d3c",
   "metadata": {},
   "outputs": [],
   "source": [
    "mask_chl = source.CHL.sel(longitude=slice(-55.0, -40.0), latitude=slice(-21.0, -33.8)).where((bat>-200)&(bat<-10 ))"
   ]
  },
  {
   "cell_type": "code",
   "execution_count": 7,
   "id": "d877cf8b",
   "metadata": {},
   "outputs": [
    {
     "name": "stdout",
     "output_type": "stream",
     "text": [
      "<xarray.DataArray 'CHL' (time: 5036, latitude: 307, longitude: 360)>\n",
      "dask.array<where, shape=(5036, 307, 360), dtype=float32, chunksize=(1026, 307, 360), chunktype=numpy.ndarray>\n",
      "Coordinates:\n",
      "  * latitude   (latitude) float64 -21.02 -21.06 -21.1 ... -33.69 -33.73 -33.77\n",
      "  * longitude  (longitude) float64 -54.98 -54.94 -54.9 ... -40.1 -40.06 -40.02\n",
      "  * time       (time) datetime64[ns] 1998-01-01 1998-01-02 ... 2019-12-31\n",
      "    lon        (longitude) float64 -54.98 -54.94 -54.9 ... -40.1 -40.06 -40.02\n",
      "    lat        (latitude) float64 -21.02 -21.06 -21.1 ... -33.69 -33.73 -33.77\n",
      "Attributes:\n",
      "    long_name:          Chlorophyll-a concentration in seawater (not log-tran...\n",
      "    units:              milligram m-3\n",
      "    grid_mapping:       grid_mapping\n",
      "    standard_name:      mass_concentration_of_chlorophyll_a_in_sea_water\n",
      "    units_nonstandard:  mg m^-3\n",
      "    type:               surface\n",
      "    source:             Aqua,Suomi-NPP,Sentinel-3a, Sentinel-3b-MODISA,VIIRSN...\n",
      "    _ChunkSizes:        [   1 1080 2160]\n"
     ]
    }
   ],
   "source": [
    "print(mask_chl)"
   ]
  },
  {
   "cell_type": "code",
   "execution_count": 14,
   "id": "7b883d04",
   "metadata": {},
   "outputs": [
    {
     "name": "stdout",
     "output_type": "stream",
     "text": [
      "[########################################] | 100% Completed |  6.1s\n"
     ]
    }
   ],
   "source": [
    "with ProgressBar():\n",
    "    mean_chl = mask_chl.mean(['longitude','latitude']).compute()"
   ]
  },
  {
   "cell_type": "code",
   "execution_count": 16,
   "id": "e5b46418",
   "metadata": {},
   "outputs": [
    {
     "data": {
      "text/plain": [
       "Text(0.5, 1.0, 'oc-cci - clorophyll mass ')"
      ]
     },
     "execution_count": 16,
     "metadata": {},
     "output_type": "execute_result"
    },
    {
     "data": {
      "image/png": "[encoded data removed]",
      "text/plain": [
       "<Figure size 432x144 with 1 Axes>"
      ]
     },
     "metadata": {
      "needs_background": "light"
     },
     "output_type": "display_data"
    }
   ],
   "source": [
    "plt.figure(figsize=(6,2))\n",
    "np.log10(mean_chl).plot(x =\"time\" , color='green',linestyle='-')\n",
    "plt.title('oc-cci - clorophyll mass ')"
   ]
  },
  {
   "cell_type": "code",
   "execution_count": null,
   "id": "ef19ef0a",
   "metadata": {},
   "outputs": [],
   "source": []
  }
 ],
 "metadata": {
  "kernelspec": {
   "display_name": "Python 3 (ipykernel)",
   "language": "python",
   "name": "python3"
  },
  "language_info": {
   "codemirror_mode": {
    "name": "ipython",
    "version": 3
   },
   "file_extension": ".py",
   "mimetype": "text/x-python",
   "name": "python",
   "nbconvert_exporter": "python",
   "pygments_lexer": "ipython3",
   "version": "3.9.5"
  }
 },
 "nbformat": 4,
 "nbformat_minor": 5
}
